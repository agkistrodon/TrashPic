{
 "cells": [
  {
   "cell_type": "markdown",
   "metadata": {},
   "source": [
    "# Model Loader Notebook"
   ]
  },
  {
   "cell_type": "markdown",
   "metadata": {},
   "source": [
    "## Imports"
   ]
  },
  {
   "cell_type": "code",
   "execution_count": null,
   "metadata": {},
   "outputs": [],
   "source": [
    "import os\n",
    "import glob\n",
    "import numpy as np\n",
    "from tqdm import tqdm\n",
    "import matplotlib.pyplot as plt\n",
    "import pandas as pd\n",
    "import tensorflow as tf\n",
    "import cv2\n",
    "\n",
    "# Keras\n",
    "import keras\n",
    "\n",
    "import warnings\n",
    "warnings.filterwarnings('ignore', category=FutureWarning)"
   ]
  },
  {
   "cell_type": "markdown",
   "metadata": {},
   "source": [
    "## Variables"
   ]
  },
  {
   "cell_type": "code",
   "execution_count": null,
   "metadata": {},
   "outputs": [],
   "source": [
    "img_size = 224"
   ]
  },
  {
   "cell_type": "markdown",
   "metadata": {},
   "source": [
    "## Methods"
   ]
  },
  {
   "cell_type": "code",
   "execution_count": null,
   "metadata": {},
   "outputs": [],
   "source": [
    "def getDataFromFile(filepath):\n",
    "    try:\n",
    "        class_num = int(os.path.basename(filepath).split('_')[4])\n",
    "    except Exception as e:\n",
    "         class_num = -1\n",
    "    try:\n",
    "        img_arr = cv2.imread(filepath, cv2.IMREAD_GRAYSCALE)\n",
    "        rgbimg_arr = cv2.cvtColor(img_arr,cv2.COLOR_GRAY2RGB)\n",
    "            \n",
    "        resized_arr = cv2.resize(rgbimg_arr, (img_size, img_size))\n",
    "        np_arr = [resized_arr]\n",
    "        np_arr = np.array(np_arr).reshape(len(np_arr), img_size, img_size, 3)\n",
    "        return [np_arr, class_num]\n",
    "    except Exception as e:\n",
    "            pass\n",
    "def predictWithData(data, model):\n",
    "     prediction = model.predict(data)\n",
    "     return float(prediction[0][0])\n",
    "def predictWithPath(path, model):\n",
    "     data = getDataFromFile(path)[0]\n",
    "     prediction = model.predict(data)\n",
    "     return float(prediction[0][0])\n",
    "     "
   ]
  },
  {
   "cell_type": "markdown",
   "metadata": {},
   "source": [
    "## Load the model"
   ]
  },
  {
   "cell_type": "code",
   "execution_count": null,
   "metadata": {},
   "outputs": [],
   "source": [
    "model_path = 'models/local-mobilenetv2.h5'\n",
    "model = keras.models.load_model(model_path)"
   ]
  },
  {
   "cell_type": "markdown",
   "metadata": {},
   "source": [
    "## Predict with the model"
   ]
  },
  {
   "cell_type": "code",
   "execution_count": null,
   "metadata": {},
   "outputs": [],
   "source": [
    "#filepath = 'data/train/s0001/s0001_00001_0_0_0_0_0_01.png'\n",
    "#filepath = 'data/train/s0001/s0001_02290_0_0_1_0_0_01.png'\n",
    "filepath = 'data/garbage-classification/Garbage-classification/cardboard/cardboard1.jpg'\n",
    "data, class_num = getDataFromFile(filepath)\n",
    "prediction = predictWithData(data, model)\n",
    "print(f\"expected class: {class_num}\")\n",
    "print(f\"predicted class: {round(prediction)}\")\n",
    "if round(prediction) == 0:\n",
    "    print(f\"confidence: {1 - prediction}\")\n",
    "else:\n",
    "    print(f\"confidence: {prediction}\")\n",
    "print(f\"original prediction: {prediction}\")\n"
   ]
  }
 ],
 "metadata": {
  "kernelspec": {
   "display_name": "tf",
   "language": "python",
   "name": "python3"
  },
  "language_info": {
   "codemirror_mode": {
    "name": "ipython",
    "version": 3
   },
   "file_extension": ".py",
   "mimetype": "text/x-python",
   "name": "python",
   "nbconvert_exporter": "python",
   "pygments_lexer": "ipython3",
   "version": "3.11.4"
  },
  "orig_nbformat": 4
 },
 "nbformat": 4,
 "nbformat_minor": 2
}
